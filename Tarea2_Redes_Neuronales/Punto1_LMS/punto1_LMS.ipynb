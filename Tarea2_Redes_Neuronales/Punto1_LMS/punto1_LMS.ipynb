{
 "cells": [
  {
   "cell_type": "markdown",
   "metadata": {},
   "source": [
    "# Tarea 2. NN with LMS, Problema 1\n",
    "\n",
    "## Fundamentos de inteligencia computacional\n",
    "## por: Juan Pablo Arango A. & Simón Zapata Caro"
   ]
  },
  {
   "cell_type": "code",
   "execution_count": 1,
   "metadata": {},
   "outputs": [],
   "source": [
    "%matplotlib inline\n",
    "import warnings\n",
    "warnings.filterwarnings('ignore')\n",
    "from pydoc import help  # can type in the python console `help(name of function)` to get the documentation\n",
    "import pandas as pd\n",
    "import numpy as np\n",
    "import matplotlib.pyplot as plt\n",
    "import seaborn as sns\n",
    "from sklearn.preprocessing import scale\n",
    "from sklearn.decomposition import PCA\n",
    "from sklearn.discriminant_analysis import LinearDiscriminantAnalysis\n",
    "from scipy import stats\n",
    "from IPython.display import display, HTML\n",
    "from pandas.tools.plotting import scatter_matrix\n",
    "from matplotlib.artist import setp\n",
    "import time\n",
    "\n",
    "plt.rcParams['figure.figsize'] = (10,16)"
   ]
  },
  {
   "cell_type": "code",
   "execution_count": 2,
   "metadata": {},
   "outputs": [],
   "source": [
    "df1     = pd.io.excel.read_excel(\"DatosPunto1.xlsx\", sheetname=0)\n",
    "classes = df1.iloc[:,-1].copy()\n",
    "df1 = df1.iloc[:,0:-2].copy()\n",
    "#normalización min-max\n",
    "df1 = (df1-np.min(df1, axis = 0))/(np.max(df1, axis = 0)-np.min(df1, axis = 0))\n",
    "\n",
    "y = np.array(classes)\n",
    "X = np.array(df1)"
   ]
  },
  {
   "cell_type": "code",
   "execution_count": 3,
   "metadata": {},
   "outputs": [],
   "source": [
    "X_original = X\n",
    "\n",
    "Nsamples = X.shape[0]\n",
    "Ntrain   = int(0.7*Nsamples)\n",
    "Nval     = int(0.15*Nsamples)\n",
    "Ntest    = Nsamples-Ntrain-Nval\n",
    "\n",
    "X_test = X[(Nsamples-Ntest):Nsamples,:]\n",
    "y_test = y[(Nsamples-Ntest):Nsamples  ]\n",
    "\n",
    "X = X[0:(Nsamples-Ntest),:]\n",
    "y = y[0:(Nsamples-Ntest)  ]"
   ]
  },
  {
   "cell_type": "code",
   "execution_count": 4,
   "metadata": {},
   "outputs": [],
   "source": [
    "def derivating(fx):\n",
    "    difcoefs = [1,-1]\n",
    "    return np.convolve(fx,difcoefs,mode='same')\n",
    "\n",
    "def clearList(L): #arroja una lista de L elementos vacios, no sabia de qué otra forma hacerla\n",
    "    listica = []\n",
    "    for i in range(0,L):\n",
    "        listica.append([]);\n",
    "    return listica\n",
    "\n",
    "def LMS_training(X,y,iteraciones=500,alpha=0.1,de_min=0.01):\n",
    "    \n",
    "    ##falta mirar como imprimir Error en tiempo real\n",
    "    \n",
    "    w_          = np.random.rand(X.shape[1] + 1,)\n",
    "    n           = X.shape[0]\n",
    "    nf          = X.shape[1]\n",
    "    sw          = 0\n",
    "    j           = 0\n",
    "    index       = []\n",
    "    error_array = []\n",
    "    \n",
    "\n",
    "    while j < iteraciones and sw == 0:\n",
    "        for i in range(0,n):\n",
    "            g  = np.dot(w_,np.insert(X[i,:],0,1).T)\n",
    "            e  = g - y[i]\n",
    "            w_ = w_ - alpha*e*np.insert(X[i,:],0,1)\n",
    "        predicted = []\n",
    "        for i in range(0,n):\n",
    "            predicted.append(Predict(X[i,:],w_))\n",
    "        g = (y-predicted)\n",
    "        E = 0.5*np.sum(g*g.T)/y.shape #queda la duda\n",
    "        \n",
    "        index.append(j)\n",
    "        error_array.append(E[0])\n",
    "        d_error_array = derivating(error_array)\n",
    "        \n",
    "        if np.abs(d_error_array[len(d_error_array)-1]) < de_min:\n",
    "            sw = 1\n",
    "        \n",
    "        j = j + 1\n",
    "    print('Función de error: '+str(E[0])+', alpha: '+str(alpha))\n",
    "    \n",
    "    return [w_,predicted]\n",
    "\n",
    "def Predict(X,w_): \n",
    "    return np.dot(w_,np.insert(X,0,1).T)\n"
   ]
  },
  {
   "cell_type": "markdown",
   "metadata": {},
   "source": [
    "### Entrenamiento de la red neuronal usando validación bootstraping para $\\alpha = logspace(0.001, 0.1, N = 10)$"
   ]
  },
  {
   "cell_type": "code",
   "execution_count": 5,
   "metadata": {},
   "outputs": [],
   "source": [
    "index=np.random.permutation(X.shape[0])\n",
    "X1    = X[index,:]\n",
    "y1    = y[index]\n",
    "\n",
    "X_train = X1[0:Ntrain,:]\n",
    "X_val   = X1[Ntrain:(Ntrain+Nval),:]\n",
    "y_train = y1[0:Ntrain  ]\n",
    "y_val   = y1[Ntrain:(Ntrain+Nval)  ]\n",
    "\n",
    "alpha = np.logspace(-3,-1,num=10)"
   ]
  },
  {
   "cell_type": "code",
   "execution_count": 6,
   "metadata": {},
   "outputs": [
    {
     "name": "stdout",
     "output_type": "stream",
     "text": [
      "Función de error: 5.449555692818447, alpha: 0.001\n",
      "Función de error: 5.408330221298353, alpha: 0.0016681005372000592\n",
      "Función de error: 5.386865917585444, alpha: 0.0027825594022071257\n",
      "Función de error: 5.389700010090905, alpha: 0.004641588833612777\n",
      "Función de error: 5.377395589707011, alpha: 0.007742636826811269\n",
      "Función de error: 5.356360190801482, alpha: 0.01291549665014884\n",
      "Función de error: 5.310330952618308, alpha: 0.021544346900318832\n",
      "Función de error: 5.2579490370907624, alpha: 0.03593813663804626\n",
      "Función de error: 5.269478661131315, alpha: 0.05994842503189409\n",
      "Función de error: 5.707174887014792, alpha: 0.1\n"
     ]
    }
   ],
   "source": [
    "wLMS       = clearList(len(alpha))\n",
    "predicted  = clearList(len(alpha))\n",
    "predicted2 = clearList(len(alpha))\n",
    "ecm1       = clearList(len(alpha))\n",
    "ecm2       = clearList(len(alpha))\n",
    "\n",
    "for i in range(len(alpha)):\n",
    "    [wLMS[i],predicted[i]] = LMS_training(X_train,y_train,iteraciones=1000,de_min=0.001,alpha=alpha[i])\n",
    "    ecm1[i] = np.sqrt(np.sum(((predicted[i]-y_train)*(predicted[i]-y_train)))/y_train.shape)[0]\n",
    "    \n",
    "    p_i = []\n",
    "    for j in range(0,X_val.shape[0]):\n",
    "        p_i.append(Predict(X_val[j,:],wLMS[i]))\n",
    "    predicted2[i] = p_i\n",
    "    ecm2[i] = np.sqrt(np.sum(((predicted2[i]-y_val)*(predicted2[i]-y_val)))/y_val.shape)[0]\n",
    "\n"
   ]
  },
  {
   "cell_type": "code",
   "execution_count": 7,
   "metadata": {
    "scrolled": false
   },
   "outputs": [
    {
     "name": "stdout",
     "output_type": "stream",
     "text": [
      "para cada topologia de red\n"
     ]
    },
    {
     "data": {
      "text/html": [
       "<div>\n",
       "<style scoped>\n",
       "    .dataframe tbody tr th:only-of-type {\n",
       "        vertical-align: middle;\n",
       "    }\n",
       "\n",
       "    .dataframe tbody tr th {\n",
       "        vertical-align: top;\n",
       "    }\n",
       "\n",
       "    .dataframe thead th {\n",
       "        text-align: right;\n",
       "    }\n",
       "</style>\n",
       "<table border=\"1\" class=\"dataframe\">\n",
       "  <thead>\n",
       "    <tr style=\"text-align: right;\">\n",
       "      <th></th>\n",
       "      <th>alpha</th>\n",
       "      <th>error de entrenamiento</th>\n",
       "      <th>error de validación</th>\n",
       "    </tr>\n",
       "  </thead>\n",
       "  <tbody>\n",
       "    <tr>\n",
       "      <th>0</th>\n",
       "      <td>0.001000</td>\n",
       "      <td>3.301380</td>\n",
       "      <td>3.338845</td>\n",
       "    </tr>\n",
       "    <tr>\n",
       "      <th>1</th>\n",
       "      <td>0.001668</td>\n",
       "      <td>3.288869</td>\n",
       "      <td>3.329424</td>\n",
       "    </tr>\n",
       "    <tr>\n",
       "      <th>2</th>\n",
       "      <td>0.002783</td>\n",
       "      <td>3.282336</td>\n",
       "      <td>3.327171</td>\n",
       "    </tr>\n",
       "    <tr>\n",
       "      <th>3</th>\n",
       "      <td>0.004642</td>\n",
       "      <td>3.283200</td>\n",
       "      <td>3.331515</td>\n",
       "    </tr>\n",
       "    <tr>\n",
       "      <th>4</th>\n",
       "      <td>0.007743</td>\n",
       "      <td>3.279450</td>\n",
       "      <td>3.332432</td>\n",
       "    </tr>\n",
       "    <tr>\n",
       "      <th>5</th>\n",
       "      <td>0.012915</td>\n",
       "      <td>3.273029</td>\n",
       "      <td>3.331326</td>\n",
       "    </tr>\n",
       "    <tr>\n",
       "      <th>6</th>\n",
       "      <td>0.021544</td>\n",
       "      <td>3.258936</td>\n",
       "      <td>3.329870</td>\n",
       "    </tr>\n",
       "    <tr>\n",
       "      <th>7</th>\n",
       "      <td>0.035938</td>\n",
       "      <td>3.242823</td>\n",
       "      <td>3.332079</td>\n",
       "    </tr>\n",
       "    <tr>\n",
       "      <th>8</th>\n",
       "      <td>0.059948</td>\n",
       "      <td>3.246376</td>\n",
       "      <td>3.350573</td>\n",
       "    </tr>\n",
       "    <tr>\n",
       "      <th>9</th>\n",
       "      <td>0.100000</td>\n",
       "      <td>3.378513</td>\n",
       "      <td>3.490220</td>\n",
       "    </tr>\n",
       "  </tbody>\n",
       "</table>\n",
       "</div>"
      ],
      "text/plain": [
       "      alpha  error de entrenamiento  error de validación\n",
       "0  0.001000                3.301380             3.338845\n",
       "1  0.001668                3.288869             3.329424\n",
       "2  0.002783                3.282336             3.327171\n",
       "3  0.004642                3.283200             3.331515\n",
       "4  0.007743                3.279450             3.332432\n",
       "5  0.012915                3.273029             3.331326\n",
       "6  0.021544                3.258936             3.329870\n",
       "7  0.035938                3.242823             3.332079\n",
       "8  0.059948                3.246376             3.350573\n",
       "9  0.100000                3.378513             3.490220"
      ]
     },
     "execution_count": 7,
     "metadata": {},
     "output_type": "execute_result"
    }
   ],
   "source": [
    "print('para cada topologia de red')\n",
    "d = {'alpha': alpha,'error de entrenamiento': ecm1, 'error de validación' : ecm2}\n",
    "df = pd.DataFrame(data=d)\n",
    "df"
   ]
  },
  {
   "cell_type": "code",
   "execution_count": null,
   "metadata": {},
   "outputs": [],
   "source": []
  }
 ],
 "metadata": {
  "kernelspec": {
   "display_name": "Python 3",
   "language": "python",
   "name": "python3"
  },
  "language_info": {
   "codemirror_mode": {
    "name": "ipython",
    "version": 3
   },
   "file_extension": ".py",
   "mimetype": "text/x-python",
   "name": "python",
   "nbconvert_exporter": "python",
   "pygments_lexer": "ipython3",
   "version": "3.6.4"
  }
 },
 "nbformat": 4,
 "nbformat_minor": 2
}
